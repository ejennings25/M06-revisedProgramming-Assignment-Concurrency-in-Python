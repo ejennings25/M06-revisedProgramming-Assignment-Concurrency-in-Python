{
 "cells": [
  {
   "cell_type": "code",
   "execution_count": null,
   "id": "bf811a1e-ea30-4c22-bfae-6ebcb538d6e1",
   "metadata": {},
   "outputs": [],
   "source": [
    "import datetime, time, calendar, dateutil"
   ]
  },
  {
   "cell_type": "code",
   "execution_count": 44,
   "id": "c1cef905-c36d-403a-8ca8-732bdbcbc33f",
   "metadata": {},
   "outputs": [],
   "source": [
    "\"\"\" M06 Programming Assignment -Concurrency in Python\"\"\"\n",
    "#13.1 Write the current date as a string to the text file today.txt.\n",
    "from datetime import date\n",
    "now = date.today()\n",
    "now_str = now.isoformat()\n",
    "with open('today.txt', 'wt') as output:\n",
    "    print(now_str, file=output)\n",
    "\n"
   ]
  },
  {
   "cell_type": "code",
   "execution_count": 46,
   "id": "ce1c2df9-8f16-4f94-b076-8ec180b00ae1",
   "metadata": {},
   "outputs": [
    {
     "data": {
      "text/plain": [
       "'2024-07-25'"
      ]
     },
     "execution_count": 46,
     "metadata": {},
     "output_type": "execute_result"
    }
   ],
   "source": [
    "now_str"
   ]
  },
  {
   "cell_type": "code",
   "execution_count": 48,
   "id": "4b76434c-0eca-4bb5-9ed6-4c094b274dab",
   "metadata": {},
   "outputs": [
    {
     "data": {
      "text/plain": [
       "datetime.date(2024, 7, 25)"
      ]
     },
     "execution_count": 48,
     "metadata": {},
     "output_type": "execute_result"
    }
   ],
   "source": [
    "now"
   ]
  },
  {
   "cell_type": "code",
   "execution_count": 58,
   "id": "69ecc627-eacb-4f60-9344-6af4c2b2702c",
   "metadata": {},
   "outputs": [
    {
     "data": {
      "text/plain": [
       "'2024-07-25\\n'"
      ]
     },
     "execution_count": 58,
     "metadata": {},
     "output_type": "execute_result"
    }
   ],
   "source": [
    "# 13.2 Read the text file today.txt into the string today_string.\n",
    "with open('today.txt', 'rt') as input:\n",
    "     today_string = input.read()\n",
    "\n",
    "today_string"
   ]
  },
  {
   "cell_type": "code",
   "execution_count": null,
   "id": "86579191-81be-4eb2-9fb8-9a742364e2c3",
   "metadata": {},
   "outputs": [],
   "source": []
  },
  {
   "cell_type": "code",
   "execution_count": 62,
   "id": "26eac9ff-f241-42a4-b2d1-4f84a13b5cd8",
   "metadata": {},
   "outputs": [
    {
     "data": {
      "text/plain": [
       "datetime.datetime(2024, 7, 25, 0, 0)"
      ]
     },
     "execution_count": 62,
     "metadata": {},
     "output_type": "execute_result"
    }
   ],
   "source": [
    "# 13.3 Parse the date from today_string.\n",
    "from datetime import datetime\n",
    "fmt = '%Y-%m-%d\\n'\n",
    "datetime.strptime(today_string, fmt)"
   ]
  },
  {
   "cell_type": "code",
   "execution_count": 37,
   "id": "0efe3a2c-2857-4995-b926-75d1edfa9724",
   "metadata": {},
   "outputs": [],
   "source": [
    "# 15.1\n",
    "import multiprocessing\n",
    "\n",
    "def now(seconds):\n",
    "    from datetime import datetime\n",
    "    from time import sleep\n",
    "    sleep(seconds)\n",
    "    print('wait', seconds, 'seconds, time is', datetime.utcnow())\n",
    "\n",
    "if __name__ == '__main__':\n",
    "    import random\n",
    "    for n in range(3):\n",
    "        seconds = random.random()\n",
    "        proc = multiprocessing.Process(target=now, args=(seconds,))\n",
    "        proc.start()"
   ]
  },
  {
   "cell_type": "code",
   "execution_count": 68,
   "id": "89ed668e-1288-45e0-b1f8-d5c70a76044c",
   "metadata": {},
   "outputs": [
    {
     "ename": "NameError",
     "evalue": "name 'proc' is not defined",
     "output_type": "error",
     "traceback": [
      "\u001b[0;31m---------------------------------------------------------------------------\u001b[0m",
      "\u001b[0;31mNameError\u001b[0m                                 Traceback (most recent call last)",
      "Cell \u001b[0;32mIn[68], line 1\u001b[0m\n\u001b[0;32m----> 1\u001b[0m proc\u001b[38;5;241m.\u001b[39mstart()\n",
      "\u001b[0;31mNameError\u001b[0m: name 'proc' is not defined"
     ]
    }
   ],
   "source": [
    "proc.start()"
   ]
  },
  {
   "cell_type": "code",
   "execution_count": null,
   "id": "c438e1e5-dacf-4491-995f-b680386fde4c",
   "metadata": {},
   "outputs": [],
   "source": []
  }
 ],
 "metadata": {
  "kernelspec": {
   "display_name": "Python 3 (ipykernel)",
   "language": "python",
   "name": "python3"
  },
  "language_info": {
   "codemirror_mode": {
    "name": "ipython",
    "version": 3
   },
   "file_extension": ".py",
   "mimetype": "text/x-python",
   "name": "python",
   "nbconvert_exporter": "python",
   "pygments_lexer": "ipython3",
   "version": "3.11.7"
  }
 },
 "nbformat": 4,
 "nbformat_minor": 5
}
